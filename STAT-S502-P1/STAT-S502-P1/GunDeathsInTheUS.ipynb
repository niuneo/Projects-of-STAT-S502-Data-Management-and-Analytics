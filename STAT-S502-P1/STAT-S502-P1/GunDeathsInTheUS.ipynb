{
 "cells": [
  {
   "cell_type": "markdown",
   "metadata": {},
   "source": [
    "# Data Management & Analytics - Project 1"
   ]
  },
  {
   "cell_type": "markdown",
   "metadata": {},
   "source": [
    "### 1. Work instructions"
   ]
  },
  {
   "cell_type": "markdown",
   "metadata": {},
   "source": [
    "**Due date**: April 26 2017 (00:00 pm) <br>\n",
    "**Deliverable**: Python notebook to be sent at \"loic.winckelmans@ulb.ac.be\". No additional documents <br>\n",
    "**Quotations**: 31 questions - 1 point per question - 15% of final quote <br>\n",
    "**Group composition**: Groups of 2 or 3 students <br>\n",
    "**Q&A**: Q&A session organised on April 14 2017"
   ]
  },
  {
   "cell_type": "markdown",
   "metadata": {},
   "source": [
    "**Group composition**:"
   ]
  },
  {
   "cell_type": "markdown",
   "metadata": {},
   "source": [
    "Student 1:  \n",
    "Student 2:  \n",
    "Student 3:  "
   ]
  },
  {
   "cell_type": "markdown",
   "metadata": {},
   "source": [
    "### 2. Context"
   ]
  },
  {
   "cell_type": "markdown",
   "metadata": {},
   "source": [
    "You recently heard that more than 33.000 people die from gun-death in the U.S. every year. <br>\n",
    "\n",
    "As a data scientist you want to use data acquisition techniques and databases to acquire a deeper understanding of the subject. <br> \n",
    "\n",
    "You came across a .CSV dataset from the CDC (https://www.cdc.gov/) that includes information about gun-death in the US in the years 2012-2014. <br>\n",
    "\n",
    "You then decided to download the file (guns.csv) and explore the data. <br>"
   ]
  },
  {
   "cell_type": "markdown",
   "metadata": {},
   "source": [
    "### 3. Data"
   ]
  },
  {
   "cell_type": "markdown",
   "metadata": {},
   "source": [
    "The dataset includes data regarding the victim's age, sex, race, education, intent, time (month and year) and place of death, and whether or not police was at the place of death."
   ]
  },
  {
   "cell_type": "markdown",
   "metadata": {},
   "source": [
    "- year: The year in which the fatality occurred, integer <br>\n",
    "\n",
    "- month: The month in which the fatality occurred, integer <br>\n",
    "\n",
    "- intent: The intent of the perpetrator of the crime. This can be Suicide, Accidental, NA, Homicide, or Undetermined, string\n",
    "\n",
    "- police: Whether a police officer was involved with the shooting. Either 0 (false) or 1 (true), integer\n",
    "\n",
    "- sex: The gender of the victim. Either M or F, string\n",
    "\n",
    "- age: The age of the victim, integer\n",
    "\n",
    "- race: The race of the victim. Either Asian/Pacific Islander, Native American/Native Alaskan, Black, Hispanic, or White, string\n",
    "\n",
    "- hispanic: A code indicating the Hispanic origin of the victim, integer\n",
    "\n",
    "- place: Where the shooting occurred. Has several categories, which you're encouraged to explore on your own, string\n",
    "\n",
    "- education: Educational status of the victim, integer <br>\n",
    "    can be one of the following: \n",
    "    - 1: Less than High School \n",
    "    - 2: Graduated from High School or equivalent \n",
    "    - 3: Some College \n",
    "    - 4: At least graduated from College \n",
    "    - 5: Not available\n",
    "\n",
    "- id: Gun-death id, integer"
   ]
  },
  {
   "cell_type": "markdown",
   "metadata": {},
   "source": [
    "** Simply run the following lines to connect to MongoDB database and import unicodecsv library **"
   ]
  },
  {
   "cell_type": "code",
   "execution_count": 1,
   "metadata": {
    "collapsed": true
   },
   "outputs": [],
   "source": [
    "import unicodecsv\n",
    "from pymongo import MongoClient\n",
    "from pprint import pprint\n",
    "db = MongoClient()[\"Solvay\"]"
   ]
  },
  {
   "cell_type": "markdown",
   "metadata": {},
   "source": [
    "### 4. Import data in Python"
   ]
  },
  {
   "cell_type": "markdown",
   "metadata": {},
   "source": [
    "** 4.1 Open guns.csv file in a text editor (ex. Sublime Text) and identify \"delimiter\" and \"quotechar\" in the document**"
   ]
  },
  {
   "cell_type": "markdown",
   "metadata": {},
   "source": [
    "quotechar:  \n",
    "delimiter:"
   ]
  },
  {
   "cell_type": "markdown",
   "metadata": {},
   "source": [
    "** 4.2 Explain what are delimiter and quotechar used for in a csv document **"
   ]
  },
  {
   "cell_type": "code",
   "execution_count": null,
   "metadata": {
    "collapsed": true
   },
   "outputs": [],
   "source": []
  },
  {
   "cell_type": "markdown",
   "metadata": {},
   "source": [
    "** 4.3 Import data from guns.csv in your Python notebook using DictReader. **"
   ]
  },
  {
   "cell_type": "code",
   "execution_count": 5,
   "metadata": {},
   "outputs": [],
   "source": [
    "reader = unicodecsv.DictReader(open('./guns.csv'), quotechar='', delimiter='')"
   ]
  },
  {
   "cell_type": "markdown",
   "metadata": {},
   "source": [
    "** 4.4 Print the five first lines of the csv files **"
   ]
  },
  {
   "cell_type": "code",
   "execution_count": 7,
   "metadata": {
    "collapsed": true
   },
   "outputs": [
    {
     "name": "stdout",
     "output_type": "stream",
     "text": [
      "{u'education': u'2', u'police': u'0', u'age': u'48', u'sex': u'M', u'hispanic': u'100', u'race': u'White', u'intent': u'Undetermined', u'year': u'2012', u'place': u'Home', u'month': u'02', u'id': u'7'}\n",
      "{u'education': u'2', u'police': u'0', u'age': u'41', u'sex': u'M', u'hispanic': u'100', u'race': u'Native American/Native Alaskan', u'intent': u'Suicide', u'year': u'2012', u'place': u'Home', u'month': u'03', u'id': u'8'}\n",
      "{u'education': u'3', u'police': u'0', u'age': u'50', u'sex': u'M', u'hispanic': u'100', u'race': u'White', u'intent': u'Accidental', u'year': u'2012', u'place': u'Other specified', u'month': u'02', u'id': u'9'}\n",
      "{u'education': u'5', u'police': u'0', u'age': u'NA', u'sex': u'M', u'hispanic': u'998', u'race': u'Black', u'intent': u'Suicide', u'year': u'2012', u'place': u'Home', u'month': u'02', u'id': u'10'}\n",
      "{u'education': u'3', u'police': u'0', u'age': u'30', u'sex': u'M', u'hispanic': u'100', u'race': u'White', u'intent': u'Suicide', u'year': u'2012', u'place': u'Home', u'month': u'02', u'id': u'11'}\n"
     ]
    }
   ],
   "source": [
    "count = 1\n",
    "for line in reader:\n",
    "    if count <= ...:\n",
    "        ...\n",
    "    else:\n",
    "        break\n",
    "    count += 1"
   ]
  },
  {
   "cell_type": "markdown",
   "metadata": {},
   "source": [
    "** 4.5 Which data structure is used by DictReader to import data from guns.csv ? **"
   ]
  },
  {
   "cell_type": "code",
   "execution_count": null,
   "metadata": {
    "collapsed": true
   },
   "outputs": [],
   "source": []
  },
  {
   "cell_type": "markdown",
   "metadata": {},
   "source": [
    "** 4.6 DictReader uses the same data type to store all values. What is that data type ? **"
   ]
  },
  {
   "cell_type": "code",
   "execution_count": null,
   "metadata": {
    "collapsed": true
   },
   "outputs": [],
   "source": []
  },
  {
   "cell_type": "markdown",
   "metadata": {},
   "source": [
    "### 5. Storing data in MongoDB"
   ]
  },
  {
   "cell_type": "markdown",
   "metadata": {},
   "source": [
    "** 5.1 Which data structure will you use to store documents in MongoDB ? **"
   ]
  },
  {
   "cell_type": "code",
   "execution_count": null,
   "metadata": {
    "collapsed": true
   },
   "outputs": [],
   "source": []
  },
  {
   "cell_type": "markdown",
   "metadata": {},
   "source": [
    "** 5.2 Cite 2 advantages and 2 drawbacks of using document-oriented databases compared to relational databases ? **"
   ]
  },
  {
   "cell_type": "code",
   "execution_count": null,
   "metadata": {
    "collapsed": true
   },
   "outputs": [],
   "source": []
  },
  {
   "cell_type": "markdown",
   "metadata": {},
   "source": [
    "** 5.3 Identify an attribute in guns.csv that uniquely identifies each gun-death **"
   ]
  },
  {
   "cell_type": "code",
   "execution_count": null,
   "metadata": {
    "collapsed": true
   },
   "outputs": [],
   "source": []
  },
  {
   "cell_type": "markdown",
   "metadata": {},
   "source": [
    "** 5.4 Store each gun-death information in a dedicated document in a MongoDB collection named \"guns_death_us\" **\n",
    "\n",
    "For each gun-death document, store the following attributes in the specified data type:\n",
    "- id: int\n",
    "- year: int\n",
    "- month: int\n",
    "- intent: str\n",
    "- police: int\n",
    "- sex: str\n",
    "- age: int\n",
    "- race: str\n",
    "- place: str\n",
    "- education: int"
   ]
  },
  {
   "cell_type": "code",
   "execution_count": 2,
   "metadata": {},
   "outputs": [],
   "source": [
    "reader = unicodecsv.DictReader(open('./guns.csv'), quotechar='', delimiter='')"
   ]
  },
  {
   "cell_type": "markdown",
   "metadata": {},
   "source": [
    "** 5.5 Count how many documents are stored in newly created \"guns_death_us\" collection **"
   ]
  },
  {
   "cell_type": "code",
   "execution_count": null,
   "metadata": {},
   "outputs": [],
   "source": []
  },
  {
   "cell_type": "markdown",
   "metadata": {},
   "source": [
    "### 6. Selecting documents from MongoDB"
   ]
  },
  {
   "cell_type": "markdown",
   "metadata": {},
   "source": [
    "** 6.1 Select the first document in the \"guns_death_us\" collection **"
   ]
  },
  {
   "cell_type": "code",
   "execution_count": null,
   "metadata": {},
   "outputs": [],
   "source": []
  },
  {
   "cell_type": "markdown",
   "metadata": {},
   "source": [
    "** 6.2 Perform distinct operations on the following fields in order to identify their content: <br> **\n",
    "- intent\n",
    "- place\n",
    "- race\n",
    "\n",
    "\"distinct\" operation in MongoDB enables to identify all possible values in a field: **db[\"guns_death_us\"].distinct('field') ** <br>"
   ]
  },
  {
   "cell_type": "code",
   "execution_count": null,
   "metadata": {},
   "outputs": [],
   "source": []
  },
  {
   "cell_type": "code",
   "execution_count": null,
   "metadata": {},
   "outputs": [],
   "source": []
  },
  {
   "cell_type": "code",
   "execution_count": null,
   "metadata": {},
   "outputs": [],
   "source": []
  },
  {
   "cell_type": "markdown",
   "metadata": {},
   "source": [
    "** 6.3 Select a gun-death that was accidental and happend in the street ** <br>\n",
    "Only select age, intent, place, race and sex values"
   ]
  },
  {
   "cell_type": "code",
   "execution_count": null,
   "metadata": {},
   "outputs": [],
   "source": []
  },
  {
   "cell_type": "markdown",
   "metadata": {},
   "source": [
    "** 6.4 Select gun-deaths that happened in a farm where homicide was commited on a woman ** <br>\n",
    "Only select race and age values and print it for each document"
   ]
  },
  {
   "cell_type": "code",
   "execution_count": null,
   "metadata": {},
   "outputs": [],
   "source": []
  },
  {
   "cell_type": "markdown",
   "metadata": {},
   "source": [
    "** 6.5  When selecting more than one document MongoDB returns a cursor and not a dictionary** <br>\n",
    "- Describe what information does the cursor contain <br>\n",
    "- Describe the purpose of this approach <br>"
   ]
  },
  {
   "cell_type": "code",
   "execution_count": null,
   "metadata": {
    "collapsed": true
   },
   "outputs": [],
   "source": []
  },
  {
   "cell_type": "markdown",
   "metadata": {},
   "source": [
    "### 7. Exploring data"
   ]
  },
  {
   "cell_type": "markdown",
   "metadata": {
    "collapsed": true
   },
   "source": [
    "** 7.1  How many homicides were commited on Americans below 18 years old in 2014? ** <br>"
   ]
  },
  {
   "cell_type": "code",
   "execution_count": null,
   "metadata": {},
   "outputs": [],
   "source": []
  },
  {
   "cell_type": "markdown",
   "metadata": {},
   "source": [
    "** 7.2 Which month accounted for the highest number of gun-deaths in 2012 ? ** <br>\n",
    "This question must be answered using an aggregation pipeline <br>\n",
    "Sort results in a descending order <br>"
   ]
  },
  {
   "cell_type": "code",
   "execution_count": null,
   "metadata": {},
   "outputs": [],
   "source": []
  },
  {
   "cell_type": "markdown",
   "metadata": {},
   "source": [
    "** 7.3  Which intent caused the most gun-deaths in the US between 2012 and 2014 ? ** <br>\n",
    "This question must be answered using an aggregation pipeline"
   ]
  },
  {
   "cell_type": "code",
   "execution_count": null,
   "metadata": {},
   "outputs": [],
   "source": []
  },
  {
   "cell_type": "markdown",
   "metadata": {},
   "source": [
    "** 7.4 Investigate sex distribution for the intent that caused the most gun-deaths in the US between 2012 and 2014 ? ** <br>\n",
    "This question must be answered using an aggregation pipeline"
   ]
  },
  {
   "cell_type": "code",
   "execution_count": null,
   "metadata": {},
   "outputs": [],
   "source": []
  },
  {
   "cell_type": "markdown",
   "metadata": {},
   "source": [
    "** 7.5 Draw a first conclusion on the type of gun-death that accounts for the most gun-deaths ? ** <br>"
   ]
  },
  {
   "cell_type": "code",
   "execution_count": null,
   "metadata": {
    "collapsed": true
   },
   "outputs": [],
   "source": []
  },
  {
   "cell_type": "markdown",
   "metadata": {},
   "source": [
    "** 7.6 Investigate race distribution for each of the top three intents ? ** <br>\n",
    "This question must be answered using an aggregation pipeline <br>\n",
    "Sort results in a descending order <br>"
   ]
  },
  {
   "cell_type": "code",
   "execution_count": null,
   "metadata": {},
   "outputs": [],
   "source": []
  },
  {
   "cell_type": "code",
   "execution_count": null,
   "metadata": {},
   "outputs": [],
   "source": []
  },
  {
   "cell_type": "code",
   "execution_count": null,
   "metadata": {},
   "outputs": [],
   "source": []
  },
  {
   "cell_type": "markdown",
   "metadata": {},
   "source": [
    "** 7.7 Describe impact of race on each of the top three intents ? ** <br>"
   ]
  },
  {
   "cell_type": "code",
   "execution_count": null,
   "metadata": {
    "collapsed": true
   },
   "outputs": [],
   "source": []
  },
  {
   "cell_type": "markdown",
   "metadata": {},
   "source": [
    "** 7.8 Investigate age distribution of victims on which were commited homicides ? ** <br>\n",
    "This question must be answered using an aggregation pipeline <br>\n",
    "Sort results in ascending order on age value <br>"
   ]
  },
  {
   "cell_type": "code",
   "execution_count": null,
   "metadata": {},
   "outputs": [],
   "source": []
  },
  {
   "cell_type": "markdown",
   "metadata": {},
   "source": [
    "** 7.9 Investigate average age of each race on which were commited at least 1000 homicides between 2012 and 2014 ? ** <br>\n",
    "This question must be answered using an aggregation pipeline <br>\n",
    "Sort results in a descending order <br>"
   ]
  },
  {
   "cell_type": "code",
   "execution_count": null,
   "metadata": {},
   "outputs": [],
   "source": []
  },
  {
   "cell_type": "markdown",
   "metadata": {},
   "source": [
    "** 7.10 Describe impact of race on age of the victims of homicides ? ** <br>"
   ]
  },
  {
   "cell_type": "code",
   "execution_count": null,
   "metadata": {
    "collapsed": true
   },
   "outputs": [],
   "source": []
  },
  {
   "cell_type": "markdown",
   "metadata": {},
   "source": [
    "** 7.11 For each race, compute minimum age of the victim when police was involved in the gun-death ? ** <br>\n",
    "This question must be answered using an aggregation pipeline <br>"
   ]
  },
  {
   "cell_type": "code",
   "execution_count": null,
   "metadata": {},
   "outputs": [],
   "source": []
  },
  {
   "cell_type": "markdown",
   "metadata": {},
   "source": [
    "** 7.12 Compare probability to be killed by accident between men and women victims ? ** <br>"
   ]
  },
  {
   "cell_type": "code",
   "execution_count": null,
   "metadata": {},
   "outputs": [],
   "source": []
  },
  {
   "cell_type": "markdown",
   "metadata": {},
   "source": [
    "** 7.13 Group gun-death by place-sex pair values and count the number of occurences for each pair value ** <br>\n",
    "This question must be answered using an aggregation pipeline <br>\n",
    "Sort results in a descending order <br>\n",
    "Example of place-sex pair value: {'place': 'Home', 'sex': 'M'}"
   ]
  },
  {
   "cell_type": "code",
   "execution_count": null,
   "metadata": {},
   "outputs": [],
   "source": []
  },
  {
   "cell_type": "markdown",
   "metadata": {},
   "source": [
    "** 7.14 Ask yourself a question about gun-deaths and find an answer by querying CDC dataset** <br>\n",
    "Explain your question and how you answered it. "
   ]
  },
  {
   "cell_type": "code",
   "execution_count": null,
   "metadata": {
    "collapsed": true
   },
   "outputs": [],
   "source": []
  },
  {
   "cell_type": "markdown",
   "metadata": {},
   "source": [
    "** 7.15 Write a 10 lines conclusion on interesting insights that can be drawn from your exploration of the CDC dataset **"
   ]
  },
  {
   "cell_type": "code",
   "execution_count": null,
   "metadata": {
    "collapsed": true
   },
   "outputs": [],
   "source": []
  }
 ],
 "metadata": {
  "kernelspec": {
   "display_name": "Python 3",
   "language": "python",
   "name": "python3"
  },
  "language_info": {
   "codemirror_mode": {
    "name": "ipython",
    "version": 3
   },
   "file_extension": ".py",
   "mimetype": "text/x-python",
   "name": "python",
   "nbconvert_exporter": "python",
   "pygments_lexer": "ipython3",
   "version": "3.7.1"
  }
 },
 "nbformat": 4,
 "nbformat_minor": 1
}
